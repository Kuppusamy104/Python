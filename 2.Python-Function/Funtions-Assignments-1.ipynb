{
 "cells": [
  {
   "cell_type": "code",
   "execution_count": null,
   "id": "739644c9-8fc7-43d9-afb9-9955c2cf813c",
   "metadata": {},
   "outputs": [],
   "source": [
    "# Function"
   ]
  },
  {
   "cell_type": "code",
   "execution_count": 9,
   "id": "7c3d5fbf-8ea9-4be8-9f41-64dcb63c5ff2",
   "metadata": {},
   "outputs": [],
   "source": [
    "def Subfields():\n",
    "    \n",
    "    print(\"Sub-fields in AI are:\")\n",
    "    print(\"Machine Learning\")\n",
    "    print(\"Neural Networks\")\n",
    "    print(\"Vision\")\n",
    "    print(\"Robotics\")\n",
    "    print(\"Speech Processing\")\n",
    "    print(\"Natural Language Processing\")"
   ]
  },
  {
   "cell_type": "code",
   "execution_count": 5,
   "id": "76562c4d-e576-4096-af1b-46c4ca0a1b77",
   "metadata": {},
   "outputs": [],
   "source": [
    "def Subfields1():\n",
    "    print(\"Sub-fields in AI are:\")\n",
    "    aiSubfields = [\"Machine Learning\",\"Neural Networks\",\"Vision\",\"Robotics\",\"Speech Processing\",\"NLP\"]\n",
    "    for temp in aiSubfields:\n",
    "        print(temp)\n",
    "    \n",
    "\n",
    "   "
   ]
  },
  {
   "cell_type": "code",
   "execution_count": 11,
   "id": "f1fb7469-3bbf-4c60-9e3a-38c9f690b7cf",
   "metadata": {},
   "outputs": [
    {
     "name": "stdout",
     "output_type": "stream",
     "text": [
      "Sub-fields in AI are:\n",
      "Machine Learning\n",
      "Neural Networks\n",
      "Vision\n",
      "Robotics\n",
      "Speech Processing\n",
      "Natural Language Processing\n"
     ]
    }
   ],
   "source": [
    "Subfields()"
   ]
  },
  {
   "cell_type": "code",
   "execution_count": 13,
   "id": "b21dd8b2-6dae-4d72-a09c-e44c923237a2",
   "metadata": {},
   "outputs": [
    {
     "name": "stdout",
     "output_type": "stream",
     "text": [
      "Sub-fields in AI are:\n",
      "Machine Learning\n",
      "Neural Networks\n",
      "Vision\n",
      "Robotics\n",
      "Speech Processing\n",
      "NLP\n"
     ]
    }
   ],
   "source": [
    "Subfields1()"
   ]
  },
  {
   "cell_type": "code",
   "execution_count": null,
   "id": "524e0bef-5a58-4ef4-a068-35dbb676d84b",
   "metadata": {},
   "outputs": [],
   "source": [
    "# Create a function that checks whether the given number is Odd or Even\n",
    "def checkOddEven():\n",
    "    num=int(input(\"Enter a number :\" ))\n",
    "    if(num%2)==1:\n",
    "        print(num ,\"is odd number\")\n",
    "    else:\n",
    "        print(num ,\"is Even number\")\n",
    "      "
   ]
  },
  {
   "cell_type": "code",
   "execution_count": null,
   "id": "af1efa60-2115-46e5-808c-f97e5ba29b5c",
   "metadata": {},
   "outputs": [],
   "source": [
    "checkOddEven()"
   ]
  },
  {
   "cell_type": "code",
   "execution_count": null,
   "id": "806338cb-57c6-4f89-9df6-6b9905587c57",
   "metadata": {},
   "outputs": [],
   "source": [
    " # Create a function that tells elegibility of marriage for male and female according to thei\n",
    "#r age limit like 21 for male and 18 for female\n",
    "\n",
    "def Elegible():\n",
    "    gender = input(\"Your Gender :\").upper()\n",
    "    age = int(input(\"Your Age:\"))\n",
    "    if gender == \"MALE\" and age < 21 :\n",
    "        print(\"NOT ELIGIBLE\")\n",
    "    elif gender ==\"MALE\" and age >21:\n",
    "        print(\"ELIGIBLE\")\n",
    "    elif gender == \"FEMALE\" and age < 18 :\n",
    "        print(\"NOT ELIGIBLE\")\n",
    "    elif gender ==\"FEMALE\" and age >18:\n",
    "        print(\"ELIGIBLE\")\n",
    "    "
   ]
  },
  {
   "cell_type": "code",
   "execution_count": null,
   "id": "0caec426-27e0-4a4e-bb86-71b702ab47d4",
   "metadata": {},
   "outputs": [],
   "source": [
    "Elegible()\n"
   ]
  },
  {
   "cell_type": "code",
   "execution_count": null,
   "id": "0a564c0e-1878-496d-b988-12c98813b24d",
   "metadata": {},
   "outputs": [],
   "source": [
    "# calculate the percentage of your 10th mark\n"
   ]
  },
  {
   "cell_type": "code",
   "execution_count": null,
   "id": "9875203f-3986-4a82-a8dc-717fad4761f8",
   "metadata": {},
   "outputs": [],
   "source": [
    "def percentage():\n",
    "    Subject1 = int(input(\"Subject1= \"))\n",
    "    Subject2 = int(input(\"Subject2= \"))\n",
    "    Subject3 = int(input(\"Subject3= \"))\n",
    "    Subject4 = int(input(\"Subject4= \"))\n",
    "    Subject5 = int(input(\"Subject5= \"))\n",
    "    Total = Subject1+Subject2+Subject3+Subject4+Subject5\n",
    "    Percentage= (Total / 500) * 100\n",
    "    #Percentage1 = \"{:.2f}\".format(Percentage) # percentage in 2 decimal\n",
    "    #print(Percentage1)\n",
    "    print(\"Total :\" ,Total)\n",
    "    print(\"Percentage :\" ,Percentage)"
   ]
  },
  {
   "cell_type": "code",
   "execution_count": null,
   "id": "462b3d4c-76e9-425f-8f5f-125cd00aca1a",
   "metadata": {},
   "outputs": [],
   "source": [
    "percentage()\n",
    "\n"
   ]
  },
  {
   "cell_type": "code",
   "execution_count": null,
   "id": "3f81bdef-7588-4796-a63c-2ff89266ce83",
   "metadata": {},
   "outputs": [],
   "source": [
    "#print area and perimeter of triangle using functions\n",
    "# Area of triangle : 1/2 *base * height (bh/2)\n",
    "# perimeter of triangle : a (side)+b (base)+c(Side)  [height1 , Height2, Breadth\n",
    "\n",
    "# def my_function(param1: int, param2: str) -> bool:   - return bool\n",
    "#@dispatch(int, int) -need to import\n",
    "def triangle(Height:int, Breadth:int):\n",
    "    print (\"Height :\" ,Height)\n",
    "    print(\"Breadth:\",Breadth)\n",
    "    area = (Height*Breadth)/2\n",
    "    print( \"Area formula: (Height*Breadth)/2\")\n",
    "    print(\"Area of Triangle: \",area)\n",
    "    "
   ]
  },
  {
   "cell_type": "code",
   "execution_count": null,
   "id": "33c4e09d-73fd-4abf-b47d-2e65a027e851",
   "metadata": {},
   "outputs": [],
   "source": [
    "triangle(32,34)"
   ]
  },
  {
   "cell_type": "code",
   "execution_count": null,
   "id": "81381e5a-ab64-4d28-a803-55030404b524",
   "metadata": {},
   "outputs": [],
   "source": [
    "#@dispatch(int, int,int) - need to import\n",
    "def triangle(Height1,Height2,Breadth): \n",
    "    print (\"Height1 :\",Height1)\n",
    "    print (\"Height2 :\",Height2)\n",
    "    print(\"Breadth:\",Breadth)\n",
    "    print(\"Perimeter formula: Height1+Height2+Breadth\")\n",
    "    Perimeter = Height1+Height2+Breadth\n",
    "    print(\"Perimeter of Triangle: \", Perimeter)"
   ]
  },
  {
   "cell_type": "code",
   "execution_count": null,
   "id": "8ba1142b-4aa7-4120-a1ec-8841b94dafb8",
   "metadata": {},
   "outputs": [],
   "source": [
    "\n",
    "triangle(2,4,4)"
   ]
  },
  {
   "cell_type": "code",
   "execution_count": null,
   "id": "e2a699bd-3dad-4e07-888c-0f271dc37f06",
   "metadata": {},
   "outputs": [],
   "source": []
  }
 ],
 "metadata": {
  "kernelspec": {
   "display_name": "Python 3 (ipykernel)",
   "language": "python",
   "name": "python3"
  },
  "language_info": {
   "codemirror_mode": {
    "name": "ipython",
    "version": 3
   },
   "file_extension": ".py",
   "mimetype": "text/x-python",
   "name": "python",
   "nbconvert_exporter": "python",
   "pygments_lexer": "ipython3",
   "version": "3.12.4"
  }
 },
 "nbformat": 4,
 "nbformat_minor": 5
}
