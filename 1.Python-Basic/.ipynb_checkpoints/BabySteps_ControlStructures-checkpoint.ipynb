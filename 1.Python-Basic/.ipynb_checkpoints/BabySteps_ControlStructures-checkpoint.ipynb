{
 "cells": [
  {
   "cell_type": "code",
   "execution_count": 3,
   "id": "d145b709-03d3-4904-8b80-8f4b57e573bd",
   "metadata": {},
   "outputs": [
    {
     "name": "stdout",
     "output_type": "stream",
     "text": [
      "Welcome to Assignment-1\n"
     ]
    }
   ],
   "source": [
    "# Welcome to Assignment-1\n",
    "print(\"Welcome to Assignment-1\")"
   ]
  },
  {
   "cell_type": "code",
   "execution_count": 13,
   "id": "d86a5565-138c-45c2-87fa-5b6c50f858d9",
   "metadata": {},
   "outputs": [
    {
     "name": "stdin",
     "output_type": "stream",
     "text": [
      "Num1= 10\n",
      "Num2= 30\n"
     ]
    },
    {
     "name": "stdout",
     "output_type": "stream",
     "text": [
      "Add= 40\n"
     ]
    }
   ],
   "source": [
    "#Adding two numbers : \n",
    "#Num1= 10\n",
    "# Num2= 30\n",
    "# Add= 40\n",
    "Num1=int(input(\"Num1=\"))\n",
    "Num2=int(input(\"Num2=\"))\n",
    "print(\"Add=\",Num1+Num2)\n",
    "\n",
    "\n"
   ]
  },
  {
   "cell_type": "code",
   "execution_count": 39,
   "id": "d274d552-9787-47c9-9932-51ace4e924b5",
   "metadata": {},
   "outputs": [
    {
     "name": "stdin",
     "output_type": "stream",
     "text": [
      "Enter the weight 34\n",
      "Enter the height 1\n"
     ]
    },
    {
     "name": "stdout",
     "output_type": "stream",
     "text": [
      "BMI is: 34.0\n",
      "Very Overweight\n"
     ]
    }
   ],
   "source": [
    "#Body Mass Index\n",
    "#BMI = Weight/(height*height) ,height=152 cm.1.52 meter\n",
    "#Enter the BMI Index:34  -Very Overweight\n",
    "\n",
    "Weight =float(input(\"Enter the weight\"))\n",
    "Height =float(input(\"Enter the height\"))\n",
    "bmi=Weight/(Height**2)\n",
    "print(\"BMI is:\",bmi)\n",
    "\n",
    "\n",
    "if bmi < 18.5:\n",
    "    print(\"You are underwight.\")\n",
    "elif bmi < 25:\n",
    "    print(\"You are Normalwight.\")\n",
    "elif bmi < 33:\n",
    "    print(\"Youare slightly overweight\")\n",
    "else:\n",
    "    print(\"Very Overweight\")\n",
    "    "
   ]
  },
  {
   "cell_type": "code",
   "execution_count": 46,
   "id": "10e740d7-d8e2-42e0-aeb5-94567ffcd824",
   "metadata": {},
   "outputs": [
    {
     "name": "stdin",
     "output_type": "stream",
     "text": [
      "Enter the BMI Index: 34\n"
     ]
    },
    {
     "name": "stdout",
     "output_type": "stream",
     "text": [
      "Very Overweight\n"
     ]
    }
   ],
   "source": [
    "# BMI sample i/p pass\n",
    "bmi =float(input(\"Enter the BMI Index:\"))\n",
    "if bmi < 18.5:\n",
    "    print(\"You are underwight.\")\n",
    "elif bmi < 25:\n",
    "    print(\"You are Normalwight.\")\n",
    "elif bmi < 33:\n",
    "    print(\"Youare slightly overweight\")\n",
    "else:\n",
    "    print(\"Very Overweight\")\n",
    "           "
   ]
  },
  {
   "cell_type": "markdown",
   "id": "c67b5a5c-86b2-42ad-90a6-59954e39dbd0",
   "metadata": {},
   "source": []
  }
 ],
 "metadata": {
  "kernelspec": {
   "display_name": "Python 3 (ipykernel)",
   "language": "python",
   "name": "python3"
  },
  "language_info": {
   "codemirror_mode": {
    "name": "ipython",
    "version": 3
   },
   "file_extension": ".py",
   "mimetype": "text/x-python",
   "name": "python",
   "nbconvert_exporter": "python",
   "pygments_lexer": "ipython3",
   "version": "3.12.4"
  }
 },
 "nbformat": 4,
 "nbformat_minor": 5
}
