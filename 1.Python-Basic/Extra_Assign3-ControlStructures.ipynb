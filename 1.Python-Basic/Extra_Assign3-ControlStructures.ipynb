{
 "cells": [
  {
   "cell_type": "code",
   "execution_count": 13,
   "id": "1bb73be6-e23c-42ca-907d-addc193e0584",
   "metadata": {},
   "outputs": [
    {
     "name": "stdin",
     "output_type": "stream",
     "text": [
      "Value: 10\n"
     ]
    },
    {
     "name": "stdout",
     "output_type": "stream",
     "text": [
      "CORRECT\n"
     ]
    }
   ],
   "source": [
    "# print 'CORRECT' if i == 10\n",
    "\n",
    "i = int(input(\"Value:\"))\n",
    "if i ==10:\n",
    "    print(\"CORRECT\")\n",
    "else:\n",
    "    print(\"none\")\n",
    "        \n"
   ]
  },
  {
   "cell_type": "code",
   "execution_count": 19,
   "id": "547a9384-27bc-4a70-8018-535c3e639a85",
   "metadata": {},
   "outputs": [
    {
     "name": "stdin",
     "output_type": "stream",
     "text": [
      "Enter the password: HOPE@123\n"
     ]
    },
    {
     "name": "stdout",
     "output_type": "stream",
     "text": [
      "Your password is correct\n"
     ]
    }
   ],
   "source": [
    "# Check the password, using if and else\n",
    "pswd = input(\"Enter the password:\")\n",
    "if pswd == \"HOPE@123\":\n",
    "     print(\"Your password is correct\")\n",
    "else:\n",
    "    print(\"The given password is incorrect.\")\n",
    "\n"
   ]
  },
  {
   "cell_type": "code",
   "execution_count": 25,
   "id": "5d26c26a-ac80-4628-b361-b09707f1f1ae",
   "metadata": {},
   "outputs": [
    {
     "name": "stdin",
     "output_type": "stream",
     "text": [
      "Age: 20\n"
     ]
    },
    {
     "name": "stdout",
     "output_type": "stream",
     "text": [
      "Adult\n"
     ]
    }
   ],
   "source": [
    "# Catagory the people by their age like children, adult, citizen, senior citizen...\n",
    "age=int(input((\"Age:\")))\n",
    "\n",
    "if(age<18): # age< 18 -child\n",
    "    print(\"child\")\n",
    "elif(age<35): #Adult\n",
    "    print(\"Adult\")   \n",
    "elif(age<59): #Citizen\n",
    "    print(\"#Citizen\") \n",
    "else: \n",
    "    print(\"Senior citizen\")"
   ]
  },
  {
   "cell_type": "code",
   "execution_count": 35,
   "id": "3f8eb22b-d37f-4375-97d9-9971b8ae64ef",
   "metadata": {},
   "outputs": [
    {
     "name": "stdin",
     "output_type": "stream",
     "text": [
      "Enter any number: 1.0\n"
     ]
    },
    {
     "name": "stdout",
     "output_type": "stream",
     "text": [
      "Number is positive\n"
     ]
    }
   ],
   "source": [
    " # Find whether given number is positive or negative\n",
    "#The input() function takes user input and converts it to a floating-point number using float(). This allows the code to handle both integers and decimal numbers.\n",
    "\n",
    "num = float(input(\"Enter any number:\"))\n",
    "if num > 0:\n",
    "    print(\"Number is positive\")\n",
    "elif num < 0:\n",
    "    print(\"Number is Negative\")\n",
    "else:\n",
    "    print(\"Number is Zero\")\n"
   ]
  },
  {
   "cell_type": "code",
   "execution_count": null,
   "id": "30a75353-af2e-4e74-920a-2e2d5428c720",
   "metadata": {},
   "outputs": [],
   "source": []
  }
 ],
 "metadata": {
  "kernelspec": {
   "display_name": "Python 3 (ipykernel)",
   "language": "python",
   "name": "python3"
  },
  "language_info": {
   "codemirror_mode": {
    "name": "ipython",
    "version": 3
   },
   "file_extension": ".py",
   "mimetype": "text/x-python",
   "name": "python",
   "nbconvert_exporter": "python",
   "pygments_lexer": "ipython3",
   "version": "3.12.4"
  }
 },
 "nbformat": 4,
 "nbformat_minor": 5
}
