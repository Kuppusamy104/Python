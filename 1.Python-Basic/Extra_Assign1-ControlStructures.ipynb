{
 "cells": [
  {
   "cell_type": "code",
   "execution_count": 1,
   "id": "66ca4dee-6bae-45de-bc29-d965a1bf095e",
   "metadata": {},
   "outputs": [
    {
     "data": {
      "text/plain": [
       "'\\nFloor division is a mathematical operation that returns the largest integer that is less than or equal\\nto the result of a division. The remainder is discarded,\\nso the result of floor division is always an integer. Here are some examples of floor division: #\\n\\n'"
      ]
     },
     "execution_count": 1,
     "metadata": {},
     "output_type": "execute_result"
    }
   ],
   "source": []
  },
  {
   "cell_type": "code",
   "execution_count": 2,
   "id": "ebe5706a-2fd4-42e0-b674-c862771cf220",
   "metadata": {},
   "outputs": [
    {
     "name": "stdout",
     "output_type": "stream",
     "text": [
      "HOPE AI\n"
     ]
    }
   ],
   "source": [
    "#print Statement\n",
    "print(\"HOPE AI\")"
   ]
  },
  {
   "cell_type": "code",
   "execution_count": 12,
   "id": "b3e39a1d-3ce7-442a-a693-7e126c5201b4",
   "metadata": {},
   "outputs": [
    {
     "name": "stdin",
     "output_type": "stream",
     "text": [
      "Enter your institute name? : HOPE AI\n"
     ]
    }
   ],
   "source": [
    "# Buy input \n",
    "instName=input(\"Enter your institute name? :\")\n",
    "#print(\"Enter your institute name? :\",instName)"
   ]
  },
  {
   "cell_type": "code",
   "execution_count": 16,
   "id": "9cd216a2-40e5-44ea-9db3-f3568a3bbf32",
   "metadata": {},
   "outputs": [
    {
     "name": "stdin",
     "output_type": "stream",
     "text": [
      "Enter your name:  Kuppu\n",
      "Enter your age:  35\n",
      "Enter your school name:  Govt Sc\n",
      "Enter your drgree:  BSc,MCA\n"
     ]
    }
   ],
   "source": [
    "#Buy inputs\n",
    "instName=input(\"Enter your name: \")\n",
    "instName=int(input(\"Enter your age: \"))\n",
    "instName=input(\"Enter your school name: \")\n",
    "instName=input(\"Enter your drgree: \")\n"
   ]
  },
  {
   "cell_type": "code",
   "execution_count": 19,
   "id": "00343e43-d0cc-4569-bd1f-5936467b5b31",
   "metadata": {},
   "outputs": [
    {
     "name": "stdin",
     "output_type": "stream",
     "text": [
      " 43\n",
      " 34\n"
     ]
    },
    {
     "name": "stdout",
     "output_type": "stream",
     "text": [
      "a= 43\n",
      "b= 34\n",
      "add = 77\n"
     ]
    }
   ],
   "source": [
    "#Addition\n",
    "#a,b =43,34\n",
    "a = int(input())\n",
    "b = int(input())\n",
    "add=a+b\n",
    "print(\"a=\",a)\n",
    "print(\"b=\",b)\n",
    "print(\"add =\",add)\n"
   ]
  },
  {
   "cell_type": "code",
   "execution_count": 17,
   "id": "62c64ff2-0391-423c-874a-b81bb340b59c",
   "metadata": {},
   "outputs": [
    {
     "name": "stdin",
     "output_type": "stream",
     "text": [
      " 43\n",
      " 34\n"
     ]
    },
    {
     "name": "stdout",
     "output_type": "stream",
     "text": [
      "a= 43\n",
      "b= 34\n",
      "Sub = 9\n"
     ]
    }
   ],
   "source": [
    " #Subtraction\n",
    "#a,b =43,34\n",
    "a = int(input())\n",
    "b = int(input())\n",
    "sub=a-b\n",
    "print(\"a=\",a)\n",
    "print(\"b=\",b)\n",
    "print(\"Sub =\",sub)"
   ]
  },
  {
   "cell_type": "code",
   "execution_count": 15,
   "id": "48fa434c-2e59-4271-b742-5a9391ae5370",
   "metadata": {},
   "outputs": [
    {
     "name": "stdin",
     "output_type": "stream",
     "text": [
      " 63\n",
      " 97\n"
     ]
    },
    {
     "name": "stdout",
     "output_type": "stream",
     "text": [
      "a= 63\n",
      "b= 97\n",
      "Mul = 6111\n"
     ]
    }
   ],
   "source": [
    " #Multiplication\n",
    "a = int(input())\n",
    "b = int(input())\n",
    "#a,b =63,97\n",
    "Mul=a*b\n",
    "print(\"a=\",a)\n",
    "print(\"b=\",b)\n",
    "print(\"Mul =\",Mul)"
   ]
  },
  {
   "cell_type": "code",
   "execution_count": 13,
   "id": "0c8db639-b28d-401f-a375-72eb6e04004a",
   "metadata": {},
   "outputs": [
    {
     "name": "stdin",
     "output_type": "stream",
     "text": [
      " 76\n",
      " 31\n"
     ]
    },
    {
     "name": "stdout",
     "output_type": "stream",
     "text": [
      "a= 76\n",
      "b= 31\n",
      "Float Div = 2.4516129032258065\n"
     ]
    }
   ],
   "source": [
    " #Division\n",
    " #a,b =76,31 \n",
    "a = int(input())\n",
    "b = int(input())\n",
    "Div=a/b\n",
    "print(\"a=\",a)\n",
    "print(\"b=\",b)\n",
    "print(\"Float Div =\",Div)"
   ]
  },
  {
   "cell_type": "code",
   "execution_count": 11,
   "id": "3abe40c4-f68d-4cd5-8f8e-784ad3c6c16c",
   "metadata": {},
   "outputs": [
    {
     "name": "stdin",
     "output_type": "stream",
     "text": [
      " 76\n",
      " 31\n"
     ]
    },
    {
     "name": "stdout",
     "output_type": "stream",
     "text": [
      "a= 76\n",
      "b= 31\n",
      "Float Div = 2\n"
     ]
    }
   ],
   "source": [
    "\"\"\"\n",
    "Floor division is a mathematical operation that returns the largest integer that is less than or equal\n",
    "to the result of a division. The remainder is discarded,\n",
    "so the result of floor division is always an integer. Here are some examples of floor division: #\n",
    "\n",
    "\"\"\"\n",
    " #Floor division rerturn : quotient\n",
    "# 16 // 12 # returns 1\n",
    "a = int(input())\n",
    "b = int(input())\n",
    "#a,b =76,31\n",
    "Div=a//b\n",
    "print(\"a=\",a)\n",
    "print(\"b=\",b)\n",
    "print(\"Float Div =\",Div)"
   ]
  },
  {
   "cell_type": "code",
   "execution_count": 9,
   "id": "1e651870-9201-493d-a701-2b0b39d22560",
   "metadata": {},
   "outputs": [
    {
     "name": "stdin",
     "output_type": "stream",
     "text": [
      " 76\n",
      " 31\n"
     ]
    },
    {
     "name": "stdout",
     "output_type": "stream",
     "text": [
      "a= 76\n",
      "b= 31\n",
      "Modulo = 14\n"
     ]
    }
   ],
   "source": [
    "#Modulo\n",
    "#16 % 12 # returns remainder value 4\n",
    "#a=6%10\n",
    "#print(a)\n",
    "a = int(input())\n",
    "b = int(input())\n",
    "#a,b =76,31\n",
    "Modulo=a%b\n",
    "print(\"a=\",a)\n",
    "print(\"b=\",b)\n",
    "print(\"Modulo =\",Modulo)"
   ]
  },
  {
   "cell_type": "code",
   "execution_count": 7,
   "id": "de05734a-62e2-4b4a-94ef-066e7c8abd9c",
   "metadata": {},
   "outputs": [
    {
     "name": "stdin",
     "output_type": "stream",
     "text": [
      " 4\n",
      " 4\n"
     ]
    },
    {
     "name": "stdout",
     "output_type": "stream",
     "text": [
      "a= 4\n",
      "b= 4\n",
      "power = 256\n",
      "256\n"
     ]
    }
   ],
   "source": [
    "#Power : v can use both below syntax \n",
    "#power=a**b   \n",
    "#power =pow(4,4)\n",
    "\n",
    "#a,b =4,4\n",
    "#print(a**b)  \n",
    "a = int(input())\n",
    "b = int(input())\n",
    "power =pow(a,b)\n",
    "print(\"a=\",a)\n",
    "print(\"b=\",b)\n",
    "print(\"power =\",power)\n",
    "\n",
    "\n",
    "a,b =4,4\n",
    "print(a**b)  \n",
    "#power =pow(a,b)\n"
   ]
  },
  {
   "cell_type": "code",
   "execution_count": null,
   "id": "513a1b6c-6d6b-4666-a1f9-1d2f0e90ccf2",
   "metadata": {},
   "outputs": [],
   "source": []
  }
 ],
 "metadata": {
  "kernelspec": {
   "display_name": "Python 3 (ipykernel)",
   "language": "python",
   "name": "python3"
  },
  "language_info": {
   "codemirror_mode": {
    "name": "ipython",
    "version": 3
   },
   "file_extension": ".py",
   "mimetype": "text/x-python",
   "name": "python",
   "nbconvert_exporter": "python",
   "pygments_lexer": "ipython3",
   "version": "3.12.4"
  }
 },
 "nbformat": 4,
 "nbformat_minor": 5
}
