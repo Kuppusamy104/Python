{
 "cells": [
  {
   "cell_type": "code",
   "execution_count": 7,
   "id": "d2d220b3-0883-4ff3-a113-16f80e0db3fa",
   "metadata": {},
   "outputs": [],
   "source": [
    "class SubfieldsInAI():\n",
    "    def Subfields():\n",
    "        aiSubfields = [\"Machine Learning\",\"Neural Networks\",\"Vision\",\"Robotics\",\"Speech Processing\",\"Natural Language Processing\"]\n",
    "        print(\"Sub-fields in AI are:\")\n",
    "        for subFiled in aiSubfields:\n",
    "            print(subFiled)"
   ]
  },
  {
   "cell_type": "code",
   "execution_count": 9,
   "id": "ef10ccf0-ea3a-422f-8ee8-65ed74ae8eb4",
   "metadata": {},
   "outputs": [
    {
     "name": "stdout",
     "output_type": "stream",
     "text": [
      "Sub-fields in AI are:\n",
      "Machine Learning\n",
      "Neural Networks\n",
      "Vision\n",
      "Robotics\n",
      "Speech Processing\n",
      "Natural Language Processing\n"
     ]
    }
   ],
   "source": [
    "SubfieldsInAI.Subfields()"
   ]
  },
  {
   "cell_type": "code",
   "execution_count": 13,
   "id": "a423133f-5370-4f52-8d09-b94546d2f08e",
   "metadata": {},
   "outputs": [],
   "source": [
    "class IscheckOddEven():\n",
    "    def checkOddEven():\n",
    "        num=int(input(\"Enter the number\"))\n",
    "        if(num%2)==1:\n",
    "            print(\"odd\")\n",
    "            message=\"Odd numer\"\n",
    "        else:\n",
    "            print(\"even\")\n",
    "            message=\"Even number\"\n",
    "            return message\n"
   ]
  },
  {
   "cell_type": "code",
   "execution_count": 15,
   "id": "47c2a2c9-3125-489e-9b5d-f8a3b861ccab",
   "metadata": {},
   "outputs": [
    {
     "name": "stdin",
     "output_type": "stream",
     "text": [
      "Enter the number 23\n"
     ]
    },
    {
     "name": "stdout",
     "output_type": "stream",
     "text": [
      "odd\n"
     ]
    }
   ],
   "source": [
    "IscheckOddEven.checkOddEven()"
   ]
  },
  {
   "cell_type": "code",
   "execution_count": 17,
   "id": "1a0fcab4-ac2b-43a6-af83-eb89253a8b45",
   "metadata": {},
   "outputs": [],
   "source": [
    "class clsElegible():\n",
    "    def Elegible():\n",
    "        gender = input(\"Your Gender :\").upper()\n",
    "        age = int(input(\"Your Age:\"))\n",
    "        if gender == \"MALE\" and age > 21 :\n",
    "            print(\"ELIGIBLE\")\n",
    "            message=\"ELIGIBLE\"\n",
    "        elif gender ==\"FEMALE\" and age >18:\n",
    "            print(\"ELIGIBLE\")\n",
    "            message=\"ELIGIBLE\"\n",
    "        else:\n",
    "            print(\"NOT ELIGIBLE\")\n",
    "            message=\"NOT ELIGIBLE\"\n",
    "            return message"
   ]
  },
  {
   "cell_type": "code",
   "execution_count": 19,
   "id": "7cdf4f99-1fe5-4aee-b537-f947e8c0fa69",
   "metadata": {},
   "outputs": [
    {
     "name": "stdin",
     "output_type": "stream",
     "text": [
      "Your Gender : male\n",
      "Your Age: 23\n"
     ]
    },
    {
     "name": "stdout",
     "output_type": "stream",
     "text": [
      "ELIGIBLE\n"
     ]
    }
   ],
   "source": [
    "clsElegible.Elegible()"
   ]
  },
  {
   "cell_type": "code",
   "execution_count": 31,
   "id": "805a81b5-16a1-46e3-8a8d-e7029cfbeee8",
   "metadata": {},
   "outputs": [],
   "source": [
    "class clsCalpercentage():\n",
    "    def percentage():\n",
    "        Subject1 = int(input(\"Subject1= \"))\n",
    "        Subject2 = int(input(\"Subject2= \"))\n",
    "        Subject3 = int(input(\"Subject3= \"))\n",
    "        Subject4 = int(input(\"Subject4= \"))\n",
    "        Subject5 = int(input(\"Subject5= \"))\n",
    "        Total = Subject1+Subject2+Subject3+Subject4+Subject5\n",
    "        Percentage= (Total / 500) * 100\n",
    "        #Percentage1 = \"{:.2f}\".format(Percentage) # percentage in 2 decimal\n",
    "        #print(Percentage1)\n",
    "        print(\"Total :\" ,Total)\n",
    "        print(\"Percentage :\" ,Percentage)"
   ]
  },
  {
   "cell_type": "code",
   "execution_count": 33,
   "id": "8984a1e8-c484-499a-b22f-10470be51359",
   "metadata": {},
   "outputs": [
    {
     "name": "stdin",
     "output_type": "stream",
     "text": [
      "Subject1=  98\n",
      "Subject2=  95\n",
      "Subject3=  95\n",
      "Subject4=  83\n",
      "Subject5=  97\n"
     ]
    },
    {
     "name": "stdout",
     "output_type": "stream",
     "text": [
      "Total : 468\n",
      "Percentage : 93.60000000000001\n"
     ]
    }
   ],
   "source": [
    "clsCalpercentage.percentage()"
   ]
  },
  {
   "cell_type": "code",
   "execution_count": 35,
   "id": "6de922a8-f674-411c-97cd-d04d4cd328f2",
   "metadata": {},
   "outputs": [],
   "source": [
    "class clstriangleArea():\n",
    "    def triangleArea(Height:int, Breadth:int):\n",
    "        print (\"Height :\" ,Height)\n",
    "        print(\"Breadth:\",Breadth)\n",
    "        area = (Height*Breadth)/2\n",
    "        print( \"Area formula: (Height*Breadth)/2\")\n",
    "        print(\"Area of Triangle: \",area)"
   ]
  },
  {
   "cell_type": "code",
   "execution_count": 37,
   "id": "44b11f73-7e02-46fe-9b7f-2ee5dc6c1638",
   "metadata": {},
   "outputs": [
    {
     "name": "stdout",
     "output_type": "stream",
     "text": [
      "Height : 32\n",
      "Breadth: 34\n",
      "Area formula: (Height*Breadth)/2\n",
      "Area of Triangle:  544.0\n"
     ]
    }
   ],
   "source": [
    "clstriangleArea.triangleArea(32,34)"
   ]
  },
  {
   "cell_type": "code",
   "execution_count": 41,
   "id": "f67e6188-9d66-4f67-b9c7-7b4d8453916a",
   "metadata": {},
   "outputs": [],
   "source": [
    "class clsTrianglePeri():\n",
    "    def trianglePeri(Height1,Height2,Breadth): \n",
    "        print (\"Height1 :\",Height1)\n",
    "        print (\"Height2 :\",Height2)\n",
    "        print(\"Breadth:\",Breadth)\n",
    "        print(\"Perimeter formula: Height1+Height2+Breadth\")\n",
    "        Perimeter = Height1+Height2+Breadth\n",
    "        print(\"Perimeter of Triangle: \", Perimeter)"
   ]
  },
  {
   "cell_type": "code",
   "execution_count": 43,
   "id": "c9451013-4b13-4e62-aa74-1c554c9b8da8",
   "metadata": {},
   "outputs": [
    {
     "name": "stdout",
     "output_type": "stream",
     "text": [
      "Height1 : 2\n",
      "Height2 : 4\n",
      "Breadth: 4\n",
      "Perimeter formula: Height1+Height2+Breadth\n",
      "Perimeter of Triangle:  10\n"
     ]
    }
   ],
   "source": [
    "clsTrianglePeri.trianglePeri(2,4,4)"
   ]
  },
  {
   "cell_type": "code",
   "execution_count": null,
   "id": "a66792a4-a012-4e3e-a9f1-6bb9f40d3185",
   "metadata": {},
   "outputs": [],
   "source": []
  }
 ],
 "metadata": {
  "kernelspec": {
   "display_name": "Python 3 (ipykernel)",
   "language": "python",
   "name": "python3"
  },
  "language_info": {
   "codemirror_mode": {
    "name": "ipython",
    "version": 3
   },
   "file_extension": ".py",
   "mimetype": "text/x-python",
   "name": "python",
   "nbconvert_exporter": "python",
   "pygments_lexer": "ipython3",
   "version": "3.12.4"
  }
 },
 "nbformat": 4,
 "nbformat_minor": 5
}
