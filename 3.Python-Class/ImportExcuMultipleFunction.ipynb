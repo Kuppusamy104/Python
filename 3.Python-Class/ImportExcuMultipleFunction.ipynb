{
 "cells": [
  {
   "cell_type": "code",
   "execution_count": 1,
   "id": "d2d220b3-0883-4ff3-a113-16f80e0db3fa",
   "metadata": {},
   "outputs": [],
   "source": [
    "# import the class & function from library (classLib.py) \n",
    "from classLib import cls_multipleFun\n",
    "#from filename import classnName"
   ]
  },
  {
   "cell_type": "code",
   "execution_count": 5,
   "id": "ef10ccf0-ea3a-422f-8ee8-65ed74ae8eb4",
   "metadata": {},
   "outputs": [
    {
     "name": "stdout",
     "output_type": "stream",
     "text": [
      "Sub-fields in AI are:\n",
      "Machine Learning\n",
      "Neural Networks\n",
      "Vision\n",
      "Robotics\n",
      "Speech Processing\n",
      "Natural Language Processing\n"
     ]
    }
   ],
   "source": [
    "cls_multipleFun.Subfields_1()"
   ]
  },
  {
   "cell_type": "code",
   "execution_count": 7,
   "id": "a423133f-5370-4f52-8d09-b94546d2f08e",
   "metadata": {},
   "outputs": [
    {
     "name": "stdin",
     "output_type": "stream",
     "text": [
      "Enter the number 45\n"
     ]
    },
    {
     "name": "stdout",
     "output_type": "stream",
     "text": [
      "odd\n"
     ]
    }
   ],
   "source": [
    "cls_multipleFun.checkOddEven()\n"
   ]
  },
  {
   "cell_type": "code",
   "execution_count": 9,
   "id": "7cdf4f99-1fe5-4aee-b537-f947e8c0fa69",
   "metadata": {},
   "outputs": [
    {
     "name": "stdin",
     "output_type": "stream",
     "text": [
      "Your Gender : male\n",
      "Your Age: 20\n"
     ]
    },
    {
     "name": "stdout",
     "output_type": "stream",
     "text": [
      "NOT ELIGIBLE\n"
     ]
    }
   ],
   "source": [
    "cls_multipleFun.Elegible()"
   ]
  },
  {
   "cell_type": "code",
   "execution_count": 11,
   "id": "8984a1e8-c484-499a-b22f-10470be51359",
   "metadata": {},
   "outputs": [
    {
     "name": "stdin",
     "output_type": "stream",
     "text": [
      "Subject1=  98\n",
      "Subject2=  95\n",
      "Subject3=  95\n",
      "Subject4=  87\n",
      "Subject5=  93\n"
     ]
    },
    {
     "name": "stdout",
     "output_type": "stream",
     "text": [
      "Total : 468\n",
      "Percentage : 93.60000000000001\n"
     ]
    }
   ],
   "source": [
    "cls_multipleFun.percentage()"
   ]
  },
  {
   "cell_type": "code",
   "execution_count": 13,
   "id": "44b11f73-7e02-46fe-9b7f-2ee5dc6c1638",
   "metadata": {},
   "outputs": [
    {
     "name": "stdout",
     "output_type": "stream",
     "text": [
      "Height : 32\n",
      "Breadth: 34\n",
      "Area formula: (Height*Breadth)/2\n",
      "Area of Triangle:  544.0\n"
     ]
    }
   ],
   "source": [
    "cls_multipleFun.triangleArea(32,34)"
   ]
  },
  {
   "cell_type": "code",
   "execution_count": 15,
   "id": "c9451013-4b13-4e62-aa74-1c554c9b8da8",
   "metadata": {},
   "outputs": [
    {
     "name": "stdout",
     "output_type": "stream",
     "text": [
      "Height1 : 2\n",
      "Height2 : 4\n",
      "Breadth: 4\n",
      "Perimeter formula: Height1+Height2+Breadth\n",
      "Perimeter of Triangle:  10\n"
     ]
    }
   ],
   "source": [
    "cls_multipleFun.trianglePeri(2,4,4)"
   ]
  },
  {
   "cell_type": "code",
   "execution_count": 17,
   "id": "913b68be-d03c-44a0-8c86-c6f378447f54",
   "metadata": {},
   "outputs": [
    {
     "name": "stdin",
     "output_type": "stream",
     "text": [
      "Enter the BMI Index: 34\n"
     ]
    },
    {
     "name": "stdout",
     "output_type": "stream",
     "text": [
      "Very Overweight\n"
     ]
    },
    {
     "data": {
      "text/plain": [
       "'Very Overweight'"
      ]
     },
     "execution_count": 17,
     "metadata": {},
     "output_type": "execute_result"
    }
   ],
   "source": [
    "cls_multipleFun.BMI()"
   ]
  },
  {
   "cell_type": "code",
   "execution_count": null,
   "id": "a66792a4-a012-4e3e-a9f1-6bb9f40d3185",
   "metadata": {},
   "outputs": [],
   "source": []
  }
 ],
 "metadata": {
  "kernelspec": {
   "display_name": "Python 3 (ipykernel)",
   "language": "python",
   "name": "python3"
  },
  "language_info": {
   "codemirror_mode": {
    "name": "ipython",
    "version": 3
   },
   "file_extension": ".py",
   "mimetype": "text/x-python",
   "name": "python",
   "nbconvert_exporter": "python",
   "pygments_lexer": "ipython3",
   "version": "3.12.4"
  }
 },
 "nbformat": 4,
 "nbformat_minor": 5
}
